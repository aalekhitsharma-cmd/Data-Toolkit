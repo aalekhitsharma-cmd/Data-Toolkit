{
  "nbformat": 4,
  "nbformat_minor": 0,
  "metadata": {
    "colab": {
      "provenance": []
    },
    "kernelspec": {
      "name": "python3",
      "display_name": "Python 3"
    },
    "language_info": {
      "name": "python"
    }
  },
  "cells": [
    {
      "cell_type": "markdown",
      "source": [
        "*Data Toolkit*"
      ],
      "metadata": {
        "id": "FuBb3-lWbW-E"
      }
    },
    {
      "cell_type": "markdown",
      "source": [
        "1. What is NumPy, and why is it widely used in Python?\n",
        "\n",
        "    ->NumPy (Numerical Python) is a fundamental Python library for scientific computing. It provides support for large, multi-dimensional arrays and matrices, along with a vast collection of high-level mathematical functions to operate on these arrays. The core of NumPy is the ndarray object, which is a powerful and efficient container for numerical data.\n",
        "Reasons for its widespread use in Python:\n",
        "Performance: NumPy arrays are significantly faster and more memory-efficient than standard Python lists, especially when dealing with large datasets. This is due to its underlying implementation in optimized C code.\n",
        "Multi-dimensional Array Support: It offers efficient handling of multi-dimensional arrays (matrices, tensors), which are crucial in fields like data science, machine learning, and image processing.\n",
        "Extensive Mathematical Functions: NumPy provides a comprehensive set of mathematical functions, including linear algebra, Fourier transforms, random number generation, and statistical operations, which can be applied directly to arrays.\n",
        "Foundation for other Libraries: Many other popular Python libraries in the scientific computing ecosystem, such as Pandas, SciPy, Matplotlib, and scikit-learn, are built upon NumPy and rely on its array object for data manipulation.\n",
        "Vectorization: NumPy operations are often \"vectorized,\" meaning they operate on entire arrays at once without the need for explicit loops in Python, leading to cleaner, more concise, and faster code.\n",
        "Memory Efficiency: NumPy arrays store data more compactly and efficiently in memory compared to Python lists, which is vital when working with large amounts of numerical data.\n",
        "In essence, NumPy serves as the bedrock for numerical computation in Python, providing the tools necessary for efficient and powerful data manipulation and analysis across various scientific and engineering domains."
      ],
      "metadata": {
        "id": "kdSoSFjpbcXZ"
      }
    },
    {
      "cell_type": "markdown",
      "source": [
        "2. How does broadcasting work in NumPy?\n",
        "\n",
        "     ->Broadcasting in NumPy is a mechanism that allows arithmetic operations to be performed on arrays of different shapes and sizes. It enables element-wise operations without requiring explicit loops or making unnecessary copies of data, which enhances performance and memory efficiency.\n",
        "How Broadcasting Works:\n",
        "Dimension Alignment (Right to Left): NumPy compares the dimensions of the two arrays involved in the operation, starting from the trailing (rightmost) dimension and moving towards the leading (leftmost) dimension.\n",
        "Compatibility Rules: For two dimensions to be compatible, they must meet one of the following criteria:\n",
        "They are equal in size.\n",
        "One of them has a size of 1."
      ],
      "metadata": {
        "id": "Jjw8De6bb7fD"
      }
    },
    {
      "cell_type": "markdown",
      "source": [
        "3. What is a Pandas DataFrame?\n",
        "\n",
        "   ->A Pandas DataFrame is a two-dimensional, size-mutable, and potentially heterogeneous tabular data structure with labeled axes (rows and columns) in Python. It is a fundamental data structure within the Pandas library, widely used for data manipulation and analysis."
      ],
      "metadata": {
        "id": "wc4BcryOcMAE"
      }
    },
    {
      "cell_type": "markdown",
      "source": [
        "4.  Explain the use of the groupby() method in Pandas\n",
        "\n",
        "     ->The groupby() method in Pandas is a powerful function used to split a DataFrame into groups based on one or more criteria, apply a function to each group independently, and then combine the results into a new data structure. This process is often referred to as the \"split-apply-combine\" strategy."
      ],
      "metadata": {
        "id": "W5wRSRrdcbwn"
      }
    },
    {
      "cell_type": "markdown",
      "source": [
        "5. Why is Seaborn preferred for statistical visualizations>\n",
        "\n",
        "    ->Seaborn is a popular choice for statistical visualizations due to several key advantages:\n",
        "Simplified Statistical Plotting: Seaborn provides a high-level interface for creating a wide array of statistical plots, such as distributions, relationships between variables, and comparisons across categories, often with fewer lines of code compared to its underlying library, Matplotlib.\n",
        "Enhanced Aesthetics: It offers visually appealing default themes, color palettes, and styles, producing professional-looking plots out-of-the-box without requiring extensive customization efforts.\n",
        "Integration with Pandas: Seaborn seamlessly integrates with Pandas DataFrames, allowing direct visualization of structured data without the need for significant data manipulation before plotting.\n",
        "Built-in Statistical Estimation: Many Seaborn functions automatically incorporate statistical estimations and aggregations, such as calculating confidence intervals and fitting regression lines, providing immediate insights into the data.\n",
        "Support for Complex Visualizations: While simplifying basic plots, Seaborn is also capable of generating complex multi-panel figures and advanced statistical plots like violin plots and pair plots, aiding in comprehensive data exploration.\n",
        "Focus on Relationships: It excels at visualizing the relationships between variables, which is crucial for statistical analysis and understanding data patterns."
      ],
      "metadata": {
        "id": "gNV7ILpRePHW"
      }
    },
    {
      "cell_type": "markdown",
      "source": [
        "6. What are the differences between NumPy arrays and Python lists?\n",
        "\n",
        "    ->NumPy arrays and Python lists are both used to store collections of data, but they differ significantly in their characteristics and use cases.\n",
        "Key Differences:\n",
        "Data Type Homogeneity:\n",
        "NumPy Arrays: Homogeneous; all elements in a NumPy array must be of the same data type (e.g., all integers, all floats). This allows for efficient memory storage and vectorized operations.\n",
        "Python Lists: Heterogeneous; can store elements of different data types within the same list (e.g., integers, strings, other lists).\n",
        "Performance and Memory Efficiency:\n",
        "NumPy Arrays: Optimized for numerical computations and large datasets. They are more memory-efficient as they store data in contiguous memory blocks and are implemented in C, leading to faster operations.\n",
        "Python Lists: Less memory-efficient for large numerical datasets and generally slower for mathematical operations due to their dynamic nature and object-oriented structure.\n",
        "Functionality and Operations:\n",
        "NumPy Arrays: Offer a rich set of built-in functions and methods for numerical operations, linear algebra, Fourier transforms, statistical analysis, and more. They support vectorized operations and broadcasting, enabling efficient computations on entire arrays without explicit loops.\n",
        "Python Lists: Provide basic list operations like appending, inserting, and removing elements. Arithmetic operations on lists typically concatenate them or require explicit looping for element-wise operations.\n",
        "Flexibility and Mutability:\n",
        "NumPy Arrays: While mutable, their fixed data type and often fixed size (once created) can make them less flexible for dynamic structural changes compared to lists.\n",
        "Python Lists: Highly flexible, allowing easy modification of data, including adding, removing, and changing elements, and can dynamically grow or shrink in size.\n",
        "In Summary:\n",
        "Python Lists are suitable for general-purpose tasks requiring flexibility and the ability to store heterogeneous data.\n",
        "NumPy Arrays are ideal for numerical computations, scientific computing, and data analysis, especially when dealing with large datasets, due to their performance, memory efficiency, and extensive mathematical functionalities.\n"
      ],
      "metadata": {
        "id": "skOTiwcDec23"
      }
    },
    {
      "cell_type": "markdown",
      "source": [
        "7. What is a heatmap, and when should it be used?\n",
        "\n",
        "    ->A heatmap is a data visualization method that uses color intensity to represent the magnitude of values in a matrix or on a map, highlighting patterns and \"hot spots\" of high activity or density. Heatmaps are used to visualize complex data, and in digital product analytics, they show where users click, scroll, or move their mouse on web pages to understand their behavior and improve user experience and conversion rates. They are useful for quickly identifying what is working, what isn't, and areas needing attention."
      ],
      "metadata": {
        "id": "5UwzVNCKeqer"
      }
    },
    {
      "cell_type": "markdown",
      "source": [
        "8. What does the term “vectorized operation” mean in NumPy?\n",
        "\n",
        "    ->In NumPy, \"vectorized operation\" refers to applying a function or mathematical operation to an entire array at once, rather than using an explicit Python loop to process each element individually. This approach is significantly faster and more efficient, especially for large datasets, because it uses highly optimized, pre-compiled C code under the hood to perform the calculations."
      ],
      "metadata": {
        "id": "JQVp0gN-fP2n"
      }
    },
    {
      "cell_type": "markdown",
      "source": [
        "9.  How does Matplotlib differ from Plotly?\n",
        "\n",
        "    ->Matplotlib is primarily a low-level library for creating static, publication-quality plots with extensive customization, while Plotly is a higher-level library designed for generating interactive, web-ready visualizations suitable for dashboards and web applications"
      ],
      "metadata": {
        "id": "D1qv9h5gfeW4"
      }
    },
    {
      "cell_type": "markdown",
      "source": [
        "10. What is the significance of hierarchical indexing in Pandas?\n",
        "\n",
        "    ->Hierarchical indexing, or \"MultiIndex,\" is significant in Pandas because it allows you to represent and work with higher-dimensional, or complex, data within the standard two-dimensional DataFrame structure. Instead of just one index per axis, it creates multiple \"levels\" of indexing to organize data into logical groups and streamline analysis."
      ],
      "metadata": {
        "id": "Cx3mFCMMlRoP"
      }
    },
    {
      "cell_type": "markdown",
      "source": [
        "11. What is the role of Seaborn’s pairplot() function?\n",
        "\n",
        "    ->Seaborn's pairplot() function creates a grid of plots to visualize the pairwise relationships and individual distributions of all numeric variables in a dataset. Its main role is to provide a comprehensive, high-level overview of a dataset for exploratory data analysis (EDA)"
      ],
      "metadata": {
        "id": "zaKbX4plljtT"
      }
    },
    {
      "cell_type": "markdown",
      "source": [
        "12. What is the purpose of the describe() function in Pandas?\n",
        "\n",
        "    ->The main purpose of the Pandas describe() function is to generate a statistical summary of a DataFrame or Series, providing a quick, high-level overview of the data's central tendency, dispersion, and shape of its distribution. It is an essential tool for the initial stages of exploratory data analysis (EDA)."
      ],
      "metadata": {
        "id": "q4m_uSUllueF"
      }
    },
    {
      "cell_type": "markdown",
      "source": [
        "13. Why is handling missing data important in Pandas?\n",
        "\n",
        "    ->Handling missing data is critical in Pandas because failing to do so can lead to biased results, incorrect conclusions, and reduced model performance. Missing values, often represented as NaN, create gaps in the data that can compromise the integrity and reliability of any analysis."
      ],
      "metadata": {
        "id": "McrSD0jal6wu"
      }
    },
    {
      "cell_type": "markdown",
      "source": [
        "14. What are the benefits of using Plotly for data visualization?\n",
        "\n",
        "    ->The primary benefits of using Plotly for data visualization center on its interactive features, modern aesthetics, and powerful integration with web applications. It is particularly well-suited for creating dynamic, shareable visuals that allow users to explore data in-depth with minimal effort."
      ],
      "metadata": {
        "id": "-gB3qyL5mI13"
      }
    },
    {
      "cell_type": "markdown",
      "source": [
        "15. How does NumPy handle multidimensional arrays?\n",
        "\n",
        "    ->NumPy handles multidimensional arrays through its core ndarray object, which efficiently stores data in a single, contiguous block of memory. The library then uses metadata like shape, strides, and the concept of views to interpret and manipulate this memory block as a multi-dimensional structure"
      ],
      "metadata": {
        "id": "fseGCHLpmXFz"
      }
    },
    {
      "cell_type": "markdown",
      "source": [
        "16. What is the role of Bokeh in data visualization?\n",
        "\n",
        "    ->Bokeh's role in data visualization is to provide a Python library specifically designed for creating highly interactive, web-ready plots, charts, and dashboards. It renders graphics using HTML and JavaScript in a web browser, making it ideal for exploratory data analysis, data applications, and presentations that go beyond static images."
      ],
      "metadata": {
        "id": "wrJYy1GrmjYB"
      }
    },
    {
      "cell_type": "markdown",
      "source": [
        "17. Explain the difference between apply() and map() in Pandas.\n",
        "\n",
        "    ->In Pandas, the primary difference between apply() and map() is their scope and versatility: map() is designed exclusively for element-wise operations on a Series, often for simple value substitution, while apply() is more powerful and can apply functions along an axis (rows or columns) of a DataFrame, making it suitable for complex logic and aggregation."
      ],
      "metadata": {
        "id": "K30opGJ3mtQX"
      }
    },
    {
      "cell_type": "markdown",
      "source": [
        "18. What are some advanced features of NumPy?\n",
        "\n",
        "    ->Beyond the foundational concepts of arrays and vectorized operations, NumPy offers several advanced features that enable highly efficient and specialized numerical computing, particularly with large and complex datasets."
      ],
      "metadata": {
        "id": "UUcjCc2hm29A"
      }
    },
    {
      "cell_type": "markdown",
      "source": [
        "19. How does Pandas simplify time series analysis?\n",
        "\n",
        "    ->Pandas simplifies time series analysis by providing specialized data structures and functions that natively understand and operate on time-based data. Its key role is to make common time series tasks, such as data manipulation, aggregation, and visualization, intuitive and highly efficient."
      ],
      "metadata": {
        "id": "tVwauhCTnDvG"
      }
    },
    {
      "cell_type": "markdown",
      "source": [
        "20. What is the role of a pivot table in Pandas?\n",
        "\n",
        "    ->The pivot_table() function in Pandas is used to reshape and summarize data, transforming a \"long\" or flat DataFrame into a more structured, spreadsheet-style table for easier analysis. Its main role is to enable powerful data aggregation and exploration, helping you find patterns and gain insights from complex datasets."
      ],
      "metadata": {
        "id": "cUPgJTPfnR5h"
      }
    },
    {
      "cell_type": "markdown",
      "source": [
        "21. Why is NumPy’s array slicing faster than Python’s list slicing?\n",
        "\n",
        "    ->NumPy's array slicing is significantly faster than Python's list slicing primarily because NumPy operates on contiguous blocks of memory and, for basic slicing, creates a \"view\" of the original data rather than a memory-intensive \"copy\""
      ],
      "metadata": {
        "id": "hOvuuddWnc0D"
      }
    },
    {
      "cell_type": "markdown",
      "source": [
        "22. What are some common use cases for Seaborn?\n",
        "\n",
        "    ->Seaborn's main role is to simplify the creation of informative and aesthetically pleasing statistical graphics for exploratory data analysis (EDA) and reporting. It is commonly used for the following purposes:"
      ],
      "metadata": {
        "id": "diiltYMknlh9"
      }
    },
    {
      "cell_type": "markdown",
      "source": [
        "##Practical"
      ],
      "metadata": {
        "id": "epqpmmzany0G"
      }
    },
    {
      "cell_type": "code",
      "source": [
        "# 1. A How do you create a 2D NumPy array and calculate the sum of each row\n",
        "import numpy as np\n",
        "\n",
        "# Step 1: Create the 2D NumPy array (matrix) from a list of lists\n",
        "# Each inner list becomes a row in the array\n",
        "my_2d_array = np.array([[10, 20, 30],\n",
        "                        [40, 50, 60]])\n",
        "\n",
        "print(\"Original 2D array:\")\n",
        "print(my_2d_array)\n",
        "\n",
        "# Step 2: Calculate the sum of each row using axis=1\n",
        "# axis=1 tells NumPy to perform the sum along the rows (horizontally)\n",
        "row_sums = my_2d_array.sum(axis=1)\n",
        "\n",
        "print(\"\\nSum of each row:\")\n",
        "print(row_sums)\n"
      ],
      "metadata": {
        "colab": {
          "base_uri": "https://localhost:8080/"
        },
        "id": "MZwyKVPMep5n",
        "outputId": "cd005328-d88c-479c-d8e0-40d4e3b714db"
      },
      "execution_count": 1,
      "outputs": [
        {
          "output_type": "stream",
          "name": "stdout",
          "text": [
            "Original 2D array:\n",
            "[[10 20 30]\n",
            " [40 50 60]]\n",
            "\n",
            "Sum of each row:\n",
            "[ 60 150]\n"
          ]
        }
      ]
    },
    {
      "cell_type": "code",
      "source": [
        "#  Write a Pandas script to find the mean of a specific column in a DataFrame.\n",
        "import pandas as pd\n",
        "\n",
        "# Create a sample DataFrame\n",
        "data = {'Product': ['A', 'B', 'C', 'D'],\n",
        "        'Price': [15.50, 22.75, 10.00, 31.25],\n",
        "        'Units_Sold': [120, 85, 250, 60]}\n",
        "\n",
        "df = pd.DataFrame(data)\n",
        "\n",
        "print(\"Original DataFrame:\")\n",
        "print(df)\n",
        "\n",
        "# Find the mean of the 'Price' column by selecting it and calling .mean()\n",
        "# The selected column is a Pandas Series, which has its own .mean() method\n",
        "price_mean = df['Price'].mean()\n",
        "\n",
        "# Print the result\n",
        "print(\"\\nMean of the 'Price' column:\")\n",
        "print(price_mean)\n"
      ],
      "metadata": {
        "colab": {
          "base_uri": "https://localhost:8080/"
        },
        "id": "m4JOfTJOoLhi",
        "outputId": "bee8b383-2124-4f77-c358-1c27fa0ede64"
      },
      "execution_count": 2,
      "outputs": [
        {
          "output_type": "stream",
          "name": "stdout",
          "text": [
            "Original DataFrame:\n",
            "  Product  Price  Units_Sold\n",
            "0       A  15.50         120\n",
            "1       B  22.75          85\n",
            "2       C  10.00         250\n",
            "3       D  31.25          60\n",
            "\n",
            "Mean of the 'Price' column:\n",
            "19.875\n"
          ]
        }
      ]
    },
    {
      "cell_type": "code",
      "source": [
        "# 3.Create a scatter plot using Matplotlib\n",
        "import matplotlib.pyplot as plt\n",
        "import numpy as np\n",
        "\n",
        "# Sample data\n",
        "# The x- and y-arrays must have the same length\n",
        "x = np.array([5, 7, 8, 7, 2, 17, 2, 9, 4, 11, 12, 9, 6])\n",
        "y = np.array([99, 86, 87, 88, 111, 86, 103, 87, 94, 78, 77, 85, 86])\n",
        "\n",
        "# Create the scatter plot\n",
        "plt.scatter(x, y)\n",
        "\n",
        "# Add title and axis labels for clarity\n",
        "plt.title(\"Car Speed vs. Car Age\")\n",
        "plt.xlabel(\"Age of Car (Years)\")\n",
        "plt.ylabel(\"Speed of Car (MPH)\")\n",
        "\n",
        "# Display the plot\n",
        "plt.show()\n"
      ],
      "metadata": {
        "colab": {
          "base_uri": "https://localhost:8080/",
          "height": 472
        },
        "id": "UrQIQf7_oWrQ",
        "outputId": "c566b91b-f317-4283-a73b-6034b0103cac"
      },
      "execution_count": 4,
      "outputs": [
        {
          "output_type": "display_data",
          "data": {
            "text/plain": [
              "<Figure size 640x480 with 1 Axes>"
            ],
            "image/png": "[encoded data removed]"
          },
          "metadata": {}
        }
      ]
    },
    {
      "cell_type": "code",
      "source": [
        "# How do you calculate the correlation matrix using Seaborn and visualize it with a heatmap?\n",
        "import pandas as pd\n",
        "import seaborn as sns\n",
        "import matplotlib.pyplot as plt\n",
        "\n",
        "# Create a sample DataFrame\n",
        "data = {\n",
        "    'Variable_1': [10, 15, 20, 25, 30],\n",
        "    'Variable_2': [20, 22, 25, 27, 30],\n",
        "    'Variable_3': [5, 4, 3, 2, 1],\n",
        "    'Variable_4': [8, 12, 16, 20, 24]\n",
        "}\n",
        "df = pd.DataFrame(data)\n",
        "\n",
        "print(\"Original DataFrame:\")\n",
        "print(df)\n"
      ],
      "metadata": {
        "colab": {
          "base_uri": "https://localhost:8080/"
        },
        "id": "Iw1sYqavoncD",
        "outputId": "0aa6791f-501a-4e1b-ddae-ccb074b156b0"
      },
      "execution_count": 5,
      "outputs": [
        {
          "output_type": "stream",
          "name": "stdout",
          "text": [
            "Original DataFrame:\n",
            "   Variable_1  Variable_2  Variable_3  Variable_4\n",
            "0          10          20           5           8\n",
            "1          15          22           4          12\n",
            "2          20          25           3          16\n",
            "3          25          27           2          20\n",
            "4          30          30           1          24\n"
          ]
        }
      ]
    },
    {
      "cell_type": "code",
      "source": [
        "# A Generate a bar plot using Plotly\n",
        "import plotly.express as px\n",
        "import pandas as pd\n",
        "\n",
        "# Sample data\n",
        "data = {\n",
        "    'Category': ['A', 'B', 'C', 'D', 'E'],\n",
        "    'Value': [15, 22, 18, 12, 28]\n",
        "}\n",
        "df = pd.DataFrame(data)\n",
        "\n",
        "# Create a bar chart using Plotly Express\n",
        "fig = px.bar(df, x='Category', y='Value', title=\"Plotly Bar Chart Example\")\n",
        "\n",
        "# Display the plot\n",
        "fig.show()\n"
      ],
      "metadata": {
        "colab": {
          "base_uri": "https://localhost:8080/",
          "height": 542
        },
        "id": "JXv_vQJmo6bW",
        "outputId": "82690042-f45b-4063-d525-0197b54951bc"
      },
      "execution_count": 7,
      "outputs": [
        {
          "output_type": "display_data",
          "data": {
            "text/html": [
              "<html>\n",
              "<head><meta charset=\"utf-8\" /></head>\n",
              "<body>\n",
              "    <div>            <script src=\"https://cdnjs.cloudflare.com/ajax/libs/mathjax/2.7.5/MathJax.js?config=TeX-AMS-MML_SVG\"></script><script type=\"text/javascript\">if (window.MathJax && window.MathJax.Hub && window.MathJax.Hub.Config) {window.MathJax.Hub.Config({SVG: {font: \"STIX-Web\"}});}</script>                <script type=\"text/javascript\">window.PlotlyConfig = {MathJaxConfig: 'local'};</script>\n",
              "        <script charset=\"utf-8\" src=\"https://cdn.plot.ly/plotly-2.35.2.min.js\"></script>                <div id=\"6663e1a8-8df0-4c41-8312-6c9feb08c5cf\" class=\"plotly-graph-div\" style=\"height:525px; width:100%;\"></div>            <script type=\"text/javascript\">                                    window.PLOTLYENV=window.PLOTLYENV || {};                                    if (document.getElementById(\"6663e1a8-8df0-4c41-8312-6c9feb08c5cf\")) {                    Plotly.newPlot(                        \"6663e1a8-8df0-4c41-8312-6c9feb08c5cf\",                        [{\"alignmentgroup\":\"True\",\"hovertemplate\":\"Category=%{x}\\u003cbr\\u003eValue=%{y}\\u003cextra\\u003e\\u003c\\u002fextra\\u003e\",\"legendgroup\":\"\",\"marker\":{\"color\":\"#636efa\",\"pattern\":{\"shape\":\"\"}},\"name\":\"\",\"offsetgroup\":\"\",\"orientation\":\"v\",\"showlegend\":false,\"textposition\":\"auto\",\"x\":[\"A\",\"B\",\"C\",\"D\",\"E\"],\"xaxis\":\"x\",\"y\":[15,22,18,12,28],\"yaxis\":\"y\",\"type\":\"bar\"}],                        {\"template\":{\"data\":{\"histogram2dcontour\":[{\"type\":\"histogram2dcontour\",\"colorbar\":{\"outlinewidth\":0,\"ticks\":\"\"},\"colorscale\":[[0.0,\"#0d0887\"],[0.1111111111111111,\"#46039f\"],[0.2222222222222222,\"#7201a8\"],[0.3333333333333333,\"#9c179e\"],[0.4444444444444444,\"#bd3786\"],[0.5555555555555556,\"#d8576b\"],[0.6666666666666666,\"#ed7953\"],[0.7777777777777778,\"#fb9f3a\"],[0.8888888888888888,\"#fdca26\"],[1.0,\"#f0f921\"]]}],\"choropleth\":[{\"type\":\"choropleth\",\"colorbar\":{\"outlinewidth\":0,\"ticks\":\"\"}}],\"histogram2d\":[{\"type\":\"histogram2d\",\"colorbar\":{\"outlinewidth\":0,\"ticks\":\"\"},\"colorscale\":[[0.0,\"#0d0887\"],[0.1111111111111111,\"#46039f\"],[0.2222222222222222,\"#7201a8\"],[0.3333333333333333,\"#9c179e\"],[0.4444444444444444,\"#bd3786\"],[0.5555555555555556,\"#d8576b\"],[0.6666666666666666,\"#ed7953\"],[0.7777777777777778,\"#fb9f3a\"],[0.8888888888888888,\"#fdca26\"],[1.0,\"#f0f921\"]]}],\"heatmap\":[{\"type\":\"heatmap\",\"colorbar\":{\"outlinewidth\":0,\"ticks\":\"\"},\"colorscale\":[[0.0,\"#0d0887\"],[0.1111111111111111,\"#46039f\"],[0.2222222222222222,\"#7201a8\"],[0.3333333333333333,\"#9c179e\"],[0.4444444444444444,\"#bd3786\"],[0.5555555555555556,\"#d8576b\"],[0.6666666666666666,\"#ed7953\"],[0.7777777777777778,\"#fb9f3a\"],[0.8888888888888888,\"#fdca26\"],[1.0,\"#f0f921\"]]}],\"heatmapgl\":[{\"type\":\"heatmapgl\",\"colorbar\":{\"outlinewidth\":0,\"ticks\":\"\"},\"colorscale\":[[0.0,\"#0d0887\"],[0.1111111111111111,\"#46039f\"],[0.2222222222222222,\"#7201a8\"],[0.3333333333333333,\"#9c179e\"],[0.4444444444444444,\"#bd3786\"],[0.5555555555555556,\"#d8576b\"],[0.6666666666666666,\"#ed7953\"],[0.7777777777777778,\"#fb9f3a\"],[0.8888888888888888,\"#fdca26\"],[1.0,\"#f0f921\"]]}],\"contourcarpet\":[{\"type\":\"contourcarpet\",\"colorbar\":{\"outlinewidth\":0,\"ticks\":\"\"}}],\"contour\":[{\"type\":\"contour\",\"colorbar\":{\"outlinewidth\":0,\"ticks\":\"\"},\"colorscale\":[[0.0,\"#0d0887\"],[0.1111111111111111,\"#46039f\"],[0.2222222222222222,\"#7201a8\"],[0.3333333333333333,\"#9c179e\"],[0.4444444444444444,\"#bd3786\"],[0.5555555555555556,\"#d8576b\"],[0.6666666666666666,\"#ed7953\"],[0.7777777777777778,\"#fb9f3a\"],[0.8888888888888888,\"#fdca26\"],[1.0,\"#f0f921\"]]}],\"surface\":[{\"type\":\"surface\",\"colorbar\":{\"outlinewidth\":0,\"ticks\":\"\"},\"colorscale\":[[0.0,\"#0d0887\"],[0.1111111111111111,\"#46039f\"],[0.2222222222222222,\"#7201a8\"],[0.3333333333333333,\"#9c179e\"],[0.4444444444444444,\"#bd3786\"],[0.5555555555555556,\"#d8576b\"],[0.6666666666666666,\"#ed7953\"],[0.7777777777777778,\"#fb9f3a\"],[0.8888888888888888,\"#fdca26\"],[1.0,\"#f0f921\"]]}],\"mesh3d\":[{\"type\":\"mesh3d\",\"colorbar\":{\"outlinewidth\":0,\"ticks\":\"\"}}],\"scatter\":[{\"fillpattern\":{\"fillmode\":\"overlay\",\"size\":10,\"solidity\":0.2},\"type\":\"scatter\"}],\"parcoords\":[{\"type\":\"parcoords\",\"line\":{\"colorbar\":{\"outlinewidth\":0,\"ticks\":\"\"}}}],\"scatterpolargl\":[{\"type\":\"scatterpolargl\",\"marker\":{\"colorbar\":{\"outlinewidth\":0,\"ticks\":\"\"}}}],\"bar\":[{\"error_x\":{\"color\":\"#2a3f5f\"},\"error_y\":{\"color\":\"#2a3f5f\"},\"marker\":{\"line\":{\"color\":\"#E5ECF6\",\"width\":0.5},\"pattern\":{\"fillmode\":\"overlay\",\"size\":10,\"solidity\":0.2}},\"type\":\"bar\"}],\"scattergeo\":[{\"type\":\"scattergeo\",\"marker\":{\"colorbar\":{\"outlinewidth\":0,\"ticks\":\"\"}}}],\"scatterpolar\":[{\"type\":\"scatterpolar\",\"marker\":{\"colorbar\":{\"outlinewidth\":0,\"ticks\":\"\"}}}],\"histogram\":[{\"marker\":{\"pattern\":{\"fillmode\":\"overlay\",\"size\":10,\"solidity\":0.2}},\"type\":\"histogram\"}],\"scattergl\":[{\"type\":\"scattergl\",\"marker\":{\"colorbar\":{\"outlinewidth\":0,\"ticks\":\"\"}}}],\"scatter3d\":[{\"type\":\"scatter3d\",\"line\":{\"colorbar\":{\"outlinewidth\":0,\"ticks\":\"\"}},\"marker\":{\"colorbar\":{\"outlinewidth\":0,\"ticks\":\"\"}}}],\"scattermapbox\":[{\"type\":\"scattermapbox\",\"marker\":{\"colorbar\":{\"outlinewidth\":0,\"ticks\":\"\"}}}],\"scatterternary\":[{\"type\":\"scatterternary\",\"marker\":{\"colorbar\":{\"outlinewidth\":0,\"ticks\":\"\"}}}],\"scattercarpet\":[{\"type\":\"scattercarpet\",\"marker\":{\"colorbar\":{\"outlinewidth\":0,\"ticks\":\"\"}}}],\"carpet\":[{\"aaxis\":{\"endlinecolor\":\"#2a3f5f\",\"gridcolor\":\"white\",\"linecolor\":\"white\",\"minorgridcolor\":\"white\",\"startlinecolor\":\"#2a3f5f\"},\"baxis\":{\"endlinecolor\":\"#2a3f5f\",\"gridcolor\":\"white\",\"linecolor\":\"white\",\"minorgridcolor\":\"white\",\"startlinecolor\":\"#2a3f5f\"},\"type\":\"carpet\"}],\"table\":[{\"cells\":{\"fill\":{\"color\":\"#EBF0F8\"},\"line\":{\"color\":\"white\"}},\"header\":{\"fill\":{\"color\":\"#C8D4E3\"},\"line\":{\"color\":\"white\"}},\"type\":\"table\"}],\"barpolar\":[{\"marker\":{\"line\":{\"color\":\"#E5ECF6\",\"width\":0.5},\"pattern\":{\"fillmode\":\"overlay\",\"size\":10,\"solidity\":0.2}},\"type\":\"barpolar\"}],\"pie\":[{\"automargin\":true,\"type\":\"pie\"}]},\"layout\":{\"autotypenumbers\":\"strict\",\"colorway\":[\"#636efa\",\"#EF553B\",\"#00cc96\",\"#ab63fa\",\"#FFA15A\",\"#19d3f3\",\"#FF6692\",\"#B6E880\",\"#FF97FF\",\"#FECB52\"],\"font\":{\"color\":\"#2a3f5f\"},\"hovermode\":\"closest\",\"hoverlabel\":{\"align\":\"left\"},\"paper_bgcolor\":\"white\",\"plot_bgcolor\":\"#E5ECF6\",\"polar\":{\"bgcolor\":\"#E5ECF6\",\"angularaxis\":{\"gridcolor\":\"white\",\"linecolor\":\"white\",\"ticks\":\"\"},\"radialaxis\":{\"gridcolor\":\"white\",\"linecolor\":\"white\",\"ticks\":\"\"}},\"ternary\":{\"bgcolor\":\"#E5ECF6\",\"aaxis\":{\"gridcolor\":\"white\",\"linecolor\":\"white\",\"ticks\":\"\"},\"baxis\":{\"gridcolor\":\"white\",\"linecolor\":\"white\",\"ticks\":\"\"},\"caxis\":{\"gridcolor\":\"white\",\"linecolor\":\"white\",\"ticks\":\"\"}},\"coloraxis\":{\"colorbar\":{\"outlinewidth\":0,\"ticks\":\"\"}},\"colorscale\":{\"sequential\":[[0.0,\"#0d0887\"],[0.1111111111111111,\"#46039f\"],[0.2222222222222222,\"#7201a8\"],[0.3333333333333333,\"#9c179e\"],[0.4444444444444444,\"#bd3786\"],[0.5555555555555556,\"#d8576b\"],[0.6666666666666666,\"#ed7953\"],[0.7777777777777778,\"#fb9f3a\"],[0.8888888888888888,\"#fdca26\"],[1.0,\"#f0f921\"]],\"sequentialminus\":[[0.0,\"#0d0887\"],[0.1111111111111111,\"#46039f\"],[0.2222222222222222,\"#7201a8\"],[0.3333333333333333,\"#9c179e\"],[0.4444444444444444,\"#bd3786\"],[0.5555555555555556,\"#d8576b\"],[0.6666666666666666,\"#ed7953\"],[0.7777777777777778,\"#fb9f3a\"],[0.8888888888888888,\"#fdca26\"],[1.0,\"#f0f921\"]],\"diverging\":[[0,\"#8e0152\"],[0.1,\"#c51b7d\"],[0.2,\"#de77ae\"],[0.3,\"#f1b6da\"],[0.4,\"#fde0ef\"],[0.5,\"#f7f7f7\"],[0.6,\"#e6f5d0\"],[0.7,\"#b8e186\"],[0.8,\"#7fbc41\"],[0.9,\"#4d9221\"],[1,\"#276419\"]]},\"xaxis\":{\"gridcolor\":\"white\",\"linecolor\":\"white\",\"ticks\":\"\",\"title\":{\"standoff\":15},\"zerolinecolor\":\"white\",\"automargin\":true,\"zerolinewidth\":2},\"yaxis\":{\"gridcolor\":\"white\",\"linecolor\":\"white\",\"ticks\":\"\",\"title\":{\"standoff\":15},\"zerolinecolor\":\"white\",\"automargin\":true,\"zerolinewidth\":2},\"scene\":{\"xaxis\":{\"backgroundcolor\":\"#E5ECF6\",\"gridcolor\":\"white\",\"linecolor\":\"white\",\"showbackground\":true,\"ticks\":\"\",\"zerolinecolor\":\"white\",\"gridwidth\":2},\"yaxis\":{\"backgroundcolor\":\"#E5ECF6\",\"gridcolor\":\"white\",\"linecolor\":\"white\",\"showbackground\":true,\"ticks\":\"\",\"zerolinecolor\":\"white\",\"gridwidth\":2},\"zaxis\":{\"backgroundcolor\":\"#E5ECF6\",\"gridcolor\":\"white\",\"linecolor\":\"white\",\"showbackground\":true,\"ticks\":\"\",\"zerolinecolor\":\"white\",\"gridwidth\":2}},\"shapedefaults\":{\"line\":{\"color\":\"#2a3f5f\"}},\"annotationdefaults\":{\"arrowcolor\":\"#2a3f5f\",\"arrowhead\":0,\"arrowwidth\":1},\"geo\":{\"bgcolor\":\"white\",\"landcolor\":\"#E5ECF6\",\"subunitcolor\":\"white\",\"showland\":true,\"showlakes\":true,\"lakecolor\":\"white\"},\"title\":{\"x\":0.05},\"mapbox\":{\"style\":\"light\"}}},\"xaxis\":{\"anchor\":\"y\",\"domain\":[0.0,1.0],\"title\":{\"text\":\"Category\"}},\"yaxis\":{\"anchor\":\"x\",\"domain\":[0.0,1.0],\"title\":{\"text\":\"Value\"}},\"legend\":{\"tracegroupgap\":0},\"title\":{\"text\":\"Plotly Bar Chart Example\"},\"barmode\":\"relative\"},                        {\"responsive\": true}                    ).then(function(){\n",
              "                            \n",
              "var gd = document.getElementById('6663e1a8-8df0-4c41-8312-6c9feb08c5cf');\n",
              "var x = new MutationObserver(function (mutations, observer) {{\n",
              "        var display = window.getComputedStyle(gd).display;\n",
              "        if (!display || display === 'none') {{\n",
              "            console.log([gd, 'removed!']);\n",
              "            Plotly.purge(gd);\n",
              "            observer.disconnect();\n",
              "        }}\n",
              "}});\n",
              "\n",
              "// Listen for the removal of the full notebook cells\n",
              "var notebookContainer = gd.closest('#notebook-container');\n",
              "if (notebookContainer) {{\n",
              "    x.observe(notebookContainer, {childList: true});\n",
              "}}\n",
              "\n",
              "// Listen for the clearing of the current output cell\n",
              "var outputEl = gd.closest('.output');\n",
              "if (outputEl) {{\n",
              "    x.observe(outputEl, {childList: true});\n",
              "}}\n",
              "\n",
              "                        })                };                            </script>        </div>\n",
              "</body>\n",
              "</html>"
            ]
          },
          "metadata": {}
        }
      ]
    },
    {
      "cell_type": "code",
      "source": [
        "# Create a DataFrame and add a new column based on an existing column\n",
        "import pandas as pd\n",
        "\n",
        "# Create a sample DataFrame\n",
        "data = {'Product': ['Laptop', 'Mouse', 'Keyboard', 'Monitor'],\n",
        "        'Price': [1200, 25, 75, 300]}\n",
        "df = pd.DataFrame(data)\n",
        "\n",
        "print(\"Original DataFrame:\")\n",
        "print(df)\n",
        "\n",
        "# Add a new column 'Price_with_Tax' based on the 'Price' column\n",
        "# This adds a 5% tax to each product price\n",
        "df['Price_with_Tax'] = df['Price'] * 1.05\n",
        "\n",
        "print(\"\\nDataFrame with new column:\")\n",
        "print(df)\n"
      ],
      "metadata": {
        "colab": {
          "base_uri": "https://localhost:8080/"
        },
        "id": "h2LhW9uipCVn",
        "outputId": "f1799371-f772-4140-9050-1902559b0576"
      },
      "execution_count": 8,
      "outputs": [
        {
          "output_type": "stream",
          "name": "stdout",
          "text": [
            "Original DataFrame:\n",
            "    Product  Price\n",
            "0    Laptop   1200\n",
            "1     Mouse     25\n",
            "2  Keyboard     75\n",
            "3   Monitor    300\n",
            "\n",
            "DataFrame with new column:\n",
            "    Product  Price  Price_with_Tax\n",
            "0    Laptop   1200         1260.00\n",
            "1     Mouse     25           26.25\n",
            "2  Keyboard     75           78.75\n",
            "3   Monitor    300          315.00\n"
          ]
        }
      ]
    },
    {
      "cell_type": "code",
      "source": [
        "# Write a program to perform element-wise multiplication of two NumPy arrays.\n",
        "import numpy as np\n",
        "\n",
        "# Create two sample NumPy arrays (can be 1D or 2D)\n",
        "array1 = np.array([10, 20, 30])\n",
        "array2 = np.array([2, 4, 6])\n",
        "\n",
        "# --- Method 1: Using the * operator (recommended for simplicity) ---\n",
        "result_operator = array1 * array2\n",
        "print(\"Result using the * operator:\")\n",
        "print(result_operator)\n",
        "# Output: [ 20  80 180]\n",
        "\n",
        "print(\"-\" * 30)\n",
        "\n",
        "# --- Method 2: Using the numpy.multiply() function ---\n",
        "result_function = np.multiply(array1, array2)\n",
        "print(\"Result using the np.multiply() function:\")\n",
        "print(result_function)\n",
        "# Output: [ 20  80 180]\n",
        "\n",
        "print(\"-\" * 30)\n",
        "\n",
        "# Example with 2D arrays (matrices)\n",
        "matrix1 = np.array([[5, 2], [3, 4]])\n",
        "matrix2 = np.array([[1, 6], [7, 8]])\n",
        "\n",
        "result_2d = matrix1 * matrix2\n",
        "print(\"Result of element-wise multiplication on 2D arrays:\")\n",
        "print(result_2d)\n",
        "# Output:\n",
        "# [[ 5 12]\n",
        "#  [21 32]]"
      ],
      "metadata": {
        "colab": {
          "base_uri": "https://localhost:8080/"
        },
        "id": "LcBrXxwHpPfJ",
        "outputId": "50d112df-d282-41a9-d061-56d7ccc5ea55"
      },
      "execution_count": 10,
      "outputs": [
        {
          "output_type": "stream",
          "name": "stdout",
          "text": [
            "Result using the * operator:\n",
            "[ 20  80 180]\n",
            "------------------------------\n",
            "Result using the np.multiply() function:\n",
            "[ 20  80 180]\n",
            "------------------------------\n",
            "Result of element-wise multiplication on 2D arrays:\n",
            "[[ 5 12]\n",
            " [21 32]]\n"
          ]
        }
      ]
    },
    {
      "cell_type": "code",
      "source": [
        "# Create a line plot with multiple lines using Matplotlib\n",
        "import matplotlib.pyplot as plt\n",
        "\n",
        "# Sample data for the x-axis\n",
        "x = [1, 2, 3, 4, 5, 6]\n",
        "\n",
        "# Sample data for the y-axes\n",
        "y1 = [10, 15, 25, 30, 45, 50]\n",
        "y2 = [5, 12, 18, 22, 30, 35]\n",
        "y3 = [20, 20, 20, 20, 20, 20]\n",
        "\n",
        "# Create the plot with multiple lines\n",
        "# Call plt.plot() for each line with a unique label\n",
        "plt.plot(x, y1, label='Dataset A')\n",
        "plt.plot(x, y2, label='Dataset B')\n",
        "\n",
        "# You can also add customizations like line style and color\n",
        "plt.plot(x, y3, label='Average Value', linestyle='--', color='red')\n",
        "\n",
        "# Add titles, labels, and a legend\n",
        "plt.title(\"Multiple Line Plot Example\")\n",
        "plt.xlabel(\"Time (s)\")\n",
        "plt.ylabel(\"Value\")\n",
        "plt.legend()  # This will display the labels you specified for each plot\n",
        "\n",
        "# Display the plot\n",
        "plt.show()\n"
      ],
      "metadata": {
        "colab": {
          "base_uri": "https://localhost:8080/",
          "height": 472
        },
        "id": "4zBFkddvpXcC",
        "outputId": "af9095f0-e59f-4989-c9a0-a23f6623ac74"
      },
      "execution_count": 11,
      "outputs": [
        {
          "output_type": "display_data",
          "data": {
            "text/plain": [
              "<Figure size 640x480 with 1 Axes>"
            ],
            "image/png": "[encoded data removed]"
          },
          "metadata": {}
        }
      ]
    },
    {
      "cell_type": "code",
      "source": [
        "# Generate a Pandas DataFrame and filter rows where a column value is greater than a threshold\n",
        "import pandas as pd\n",
        "\n",
        "# Step 1: Create a sample DataFrame\n",
        "data = {'Product': ['Laptop', 'Keyboard', 'Mouse', 'Monitor', 'Webcam', 'Headphones'],\n",
        "        'Price': [1200, 75, 25, 300, 50, 150], # Added prices here\n",
        "        'Rating': [4.5, 4.2, 4.8, 3.9, 4.1, 4.6]}\n",
        "df = pd.DataFrame(data)\n",
        "\n",
        "print(\"Original DataFrame:\")\n",
        "print(df)\n",
        "print(\"\\n\" + \"=\"*40 + \"\\n\")\n",
        "\n",
        "# Step 2: Define a filter condition to create a Boolean Series\n",
        "# This condition checks for rows where the 'Price' column is greater than 150\n",
        "filter_condition = df['Price'] > 150\n",
        "\n",
        "# The filter_condition itself is a Series of True/False values:\n",
        "# [False, False, False, True, False, True]\n",
        "print(\"Boolean Series from filter condition:\")\n",
        "print(filter_condition)\n",
        "print(\"\\n\" + \"=\"*40 + \"\\n\")\n",
        "\n",
        "# Step 3: Apply the filter to the DataFrame\n",
        "# Pass the Boolean Series inside square brackets [] to the DataFrame\n",
        "filtered_df = df[filter_condition]\n",
        "\n",
        "print(\"Filtered DataFrame (Price > 150):\")\n",
        "print(filtered_df)"
      ],
      "metadata": {
        "colab": {
          "base_uri": "https://localhost:8080/"
        },
        "id": "iwoQR-QdpijT",
        "outputId": "33637e79-f47d-443b-de4d-d6d73c1563f5"
      },
      "execution_count": 13,
      "outputs": [
        {
          "output_type": "stream",
          "name": "stdout",
          "text": [
            "Original DataFrame:\n",
            "      Product  Price  Rating\n",
            "0      Laptop   1200     4.5\n",
            "1    Keyboard     75     4.2\n",
            "2       Mouse     25     4.8\n",
            "3     Monitor    300     3.9\n",
            "4      Webcam     50     4.1\n",
            "5  Headphones    150     4.6\n",
            "\n",
            "========================================\n",
            "\n",
            "Boolean Series from filter condition:\n",
            "0     True\n",
            "1    False\n",
            "2    False\n",
            "3     True\n",
            "4    False\n",
            "5    False\n",
            "Name: Price, dtype: bool\n",
            "\n",
            "========================================\n",
            "\n",
            "Filtered DataFrame (Price > 150):\n",
            "   Product  Price  Rating\n",
            "0   Laptop   1200     4.5\n",
            "3  Monitor    300     3.9\n"
          ]
        }
      ]
    },
    {
      "cell_type": "code",
      "source": [
        "# Create a histogram using Seaborn to visualize a distribution\n",
        "import seaborn as sns\n",
        "import matplotlib.pyplot as plt\n",
        "import numpy as np\n",
        "\n",
        "# Sample data: generate 1000 random values from a normal distribution\n",
        "data = np.random.normal(loc=100, scale=15, size=1000)\n",
        "\n",
        "# Create the histogram\n",
        "# We pass the data array directly to the histplot function\n",
        "sns.histplot(data=data)\n",
        "\n",
        "# Add title and labels for clarity\n",
        "plt.title(\"Distribution of Sample Data\")\n",
        "plt.xlabel(\"Value\")\n",
        "plt.ylabel(\"Frequency\")\n",
        "\n",
        "# Display the plot\n",
        "plt.show()\n"
      ],
      "metadata": {
        "colab": {
          "base_uri": "https://localhost:8080/",
          "height": 472
        },
        "id": "KcompeuRpqGc",
        "outputId": "f5241133-365b-4b4b-c08b-46e2d2b52609"
      },
      "execution_count": 14,
      "outputs": [
        {
          "output_type": "display_data",
          "data": {
            "text/plain": [
              "<Figure size 640x480 with 1 Axes>"
            ],
            "image/png": "[encoded data removed]"
          },
          "metadata": {}
        }
      ]
    },
    {
      "cell_type": "code",
      "source": [
        "# Perform matrix multiplication using NumPy\n",
        "import numpy as np\n",
        "\n",
        "# Define two 2D arrays (matrices)\n",
        "matrix_a = np.array([[1, 2], [3, 4]])\n",
        "matrix_b = np.array([[5, 6], [7, 8]])\n",
        "\n",
        "print(\"Matrix A:\\n\", matrix_a)\n",
        "print(\"Matrix B:\\n\", matrix_b)\n",
        "\n",
        "# Perform matrix multiplication using the @ operator\n",
        "result_matrix = matrix_a @ matrix_b\n",
        "\n",
        "print(\"\\nResult of matrix_a @ matrix_b:\\n\", result_matrix)"
      ],
      "metadata": {
        "colab": {
          "base_uri": "https://localhost:8080/"
        },
        "id": "ORL4IDHOp2TN",
        "outputId": "2e0e9f7f-5748-4c0a-8912-ec41e51ff945"
      },
      "execution_count": 16,
      "outputs": [
        {
          "output_type": "stream",
          "name": "stdout",
          "text": [
            "Matrix A:\n",
            " [[1 2]\n",
            " [3 4]]\n",
            "Matrix B:\n",
            " [[5 6]\n",
            " [7 8]]\n",
            "\n",
            "Result of matrix_a @ matrix_b:\n",
            " [[19 22]\n",
            " [43 50]]\n"
          ]
        }
      ]
    },
    {
      "cell_type": "code",
      "source": [
        "# Use Pandas to load a CSV file and display its first 5 rows\n",
        "import pandas as pd\n",
        "\n",
        "# Step 1: Load the CSV file into a DataFrame\n",
        "# Replace 'your_file.csv' with the actual path to your file\n",
        "try:\n",
        "    df = pd.read_csv('your_file.csv')\n",
        "\n",
        "    # Step 2: Display the first 5 rows of the DataFrame\n",
        "    # The head() method returns the first 5 rows by default\n",
        "    print(df.head())\n",
        "\n",
        "except FileNotFoundError:\n",
        "    print(\"Error: The file 'your_file.csv' was not found.\")\n",
        "except Exception as e:\n",
        "    print(f\"An error occurred: {e}\")\n",
        "\n"
      ],
      "metadata": {
        "colab": {
          "base_uri": "https://localhost:8080/"
        },
        "id": "TY3DnG_WqCKn",
        "outputId": "7e76d90e-1029-415b-bfe3-03bda0222478"
      },
      "execution_count": 17,
      "outputs": [
        {
          "output_type": "stream",
          "name": "stdout",
          "text": [
            "Error: The file 'your_file.csv' was not found.\n"
          ]
        }
      ]
    },
    {
      "cell_type": "code",
      "source": [
        "#  Create a 3D scatter plot using Plotly\n",
        "import plotly.express as px\n",
        "import pandas as pd\n",
        "import numpy as np\n",
        "\n",
        "# Sample data: Three numerical columns (x, y, z) and a categorical column for color\n",
        "np.random.seed(42) # for reproducibility\n",
        "data = {\n",
        "    'X_Axis_Data': np.random.rand(50) * 10,\n",
        "    'Y_Axis_Data': np.random.rand(50) * 5,\n",
        "    'Z_Axis_Data': np.random.rand(50) * 15,\n",
        "    'Category': np.random.choice(['Group 1', 'Group 2', 'Group 3'], size=50)\n",
        "}\n",
        "df = pd.DataFrame(data)\n",
        "\n",
        "# Create the 3D scatter plot\n",
        "fig = px.scatter_3d(df,\n",
        "                    x='X_Axis_Data',\n",
        "                    y='Y_Axis_Data',\n",
        "                    z='Z_Axis_Data',\n",
        "                    color='Category',  # Color points by a categorical variable\n",
        "                    title=\"3D Scatter Plot of Random Data\",\n",
        "                    labels={           # Customize axis labels\n",
        "                        'X_Axis_Data': 'Feature X',\n",
        "                        'Y_Axis_Data': 'Feature Y',\n",
        "                        'Z_Axis_Data': 'Feature Z',\n",
        "                        'Category': 'Data Group'\n",
        "                    })\n",
        "\n",
        "# You can also customize marker size, opacity, and symbol, etc.\n",
        "# fig.update_traces(marker=dict(size=5, opacity=0.7))\n",
        "\n",
        "# Display the plot\n",
        "fig.show()\n"
      ],
      "metadata": {
        "colab": {
          "base_uri": "https://localhost:8080/",
          "height": 542
        },
        "id": "4T1zft5rqPuS",
        "outputId": "f7b931b4-9d9a-4ef6-fd04-7ea9ef594095"
      },
      "execution_count": 18,
      "outputs": [
        {
          "output_type": "display_data",
          "data": {
            "text/html": [
              "<html>\n",
              "<head><meta charset=\"utf-8\" /></head>\n",
              "<body>\n",
              "    <div>            <script src=\"https://cdnjs.cloudflare.com/ajax/libs/mathjax/2.7.5/MathJax.js?config=TeX-AMS-MML_SVG\"></script><script type=\"text/javascript\">if (window.MathJax && window.MathJax.Hub && window.MathJax.Hub.Config) {window.MathJax.Hub.Config({SVG: {font: \"STIX-Web\"}});}</script>                <script type=\"text/javascript\">window.PlotlyConfig = {MathJaxConfig: 'local'};</script>\n",
              "        <script charset=\"utf-8\" src=\"https://cdn.plot.ly/plotly-2.35.2.min.js\"></script>                <div id=\"c5902101-ccc0-45bf-91cb-698f432a8f8c\" class=\"plotly-graph-div\" style=\"height:525px; width:100%;\"></div>            <script type=\"text/javascript\">                                    window.PLOTLYENV=window.PLOTLYENV || {};                                    if (document.getElementById(\"c5902101-ccc0-45bf-91cb-698f432a8f8c\")) {                    Plotly.newPlot(                        \"c5902101-ccc0-45bf-91cb-698f432a8f8c\",                        [{\"hovertemplate\":\"Data Group=Group 1\\u003cbr\\u003eFeature X=%{x}\\u003cbr\\u003eFeature Y=%{y}\\u003cbr\\u003eFeature Z=%{z}\\u003cextra\\u003e\\u003c\\u002fextra\\u003e\",\"legendgroup\":\"Group 1\",\"marker\":{\"color\":\"#636efa\",\"symbol\":\"circle\"},\"mode\":\"markers\",\"name\":\"Group 1\",\"scene\":\"scene\",\"showlegend\":true,\"x\":[3.745401188473625,9.50714306409916,1.5599452033620265,8.324426408004218,1.8340450985343382,1.3949386065204183,2.9214464853521815,7.851759613930136,9.656320330745594,8.08397348116461,6.842330265121569,1.2203823484477883,4.951769101112702],\"y\":[4.847923138822793,3.8756641168055728,4.609371175115584,4.143687545759647,2.7134804157912424,0.993578407670862,0.027610585618011996,3.6450358402049368,1.554911608578311,1.6259166101337352,4.436063712881633,0.5979712296915085,3.566223936114975],\"z\":[0.47143778530101377,9.546156168956706,3.739383437233124,13.945464785138595,13.071908852815765,13.4413694988524,4.770052124577958,6.406616829393845,14.143645558687787,4.848043980311329,5.454444035689409,14.436709424131669,3.7767344373804623],\"type\":\"scatter3d\"},{\"hovertemplate\":\"Data Group=Group 3\\u003cbr\\u003eFeature X=%{x}\\u003cbr\\u003eFeature Y=%{y}\\u003cbr\\u003eFeature Z=%{z}\\u003cextra\\u003e\\u003c\\u002fextra\\u003e\",\"legendgroup\":\"Group 3\",\"marker\":{\"color\":\"#EF553B\",\"symbol\":\"circle\"},\"mode\":\"markers\",\"name\":\"Group 3\",\"scene\":\"scene\",\"showlegend\":true,\"x\":[7.319939418114051,6.011150117432088,7.080725777960454,0.20584494295802447,9.699098521619943,2.1233911067827616,2.9122914019804194,6.118528947223795,3.663618432936917,1.9967378215835974,5.142344384136116,5.924145688620425,6.075448519014383,1.7052412368729153,0.6505159298527952,9.488855372533333,3.0461376917337066,4.4015249373960135,9.093204020787821,2.587799816000169,5.200680211778108,5.4671027934327965],\"y\":[4.697494707820946,0.22613644455269033,1.6266516538163218,1.9433864484474102,1.3567451588694794,1.7837666334679465,4.9344346830025865,3.861223846483287,4.0773071422741705,3.8563517334297286,0.3702232586704518,1.7923286427213632,4.315517129377968,3.1164906341377896,1.654490124263246,0.3177917514301182,3.64803089169032,2.3610746258097466,2.8063859878474813,3.854835899772805,2.137705091792748,0.12709563372047594],\"z\":[4.7153397161449,3.431972482374337,1.154698647431895,4.346271793706521,2.4183193088100663,12.121805693466253,8.09013362873476,12.111602327460938,1.6507788679151514,12.270221488837397,12.910958748845152,0.10428195796786055,6.261165047231685,3.3316171570609536,1.797980510005242,5.06422757105442,7.781859326150491,14.57673124081441,4.513174647251545,4.272607415662014,7.540185348432923,0.7721812687498403],\"type\":\"scatter3d\"},{\"hovertemplate\":\"Data Group=Group 2\\u003cbr\\u003eFeature X=%{x}\\u003cbr\\u003eFeature Y=%{y}\\u003cbr\\u003eFeature Z=%{z}\\u003cextra\\u003e\\u003c\\u002fextra\\u003e\",\"legendgroup\":\"Group 2\",\"marker\":{\"color\":\"#00cc96\",\"symbol\":\"circle\"},\"mode\":\"markers\",\"name\":\"Group 2\",\"scene\":\"scene\",\"showlegend\":true,\"x\":[5.986584841970366,1.5601864044243652,0.5808361216819946,8.661761457749352,1.8182496720710062,3.0424224295953772,5.247564316322379,4.319450186421157,4.56069984217036,0.46450412719997725,0.9767211400638387,0.34388521115218396,6.62522284353982,3.1171107608941098,1.8485445552552704],\"y\":[4.474136752138244,2.9894998940554256,0.4424625102595975,0.979914312095726,1.4046725484369038,0.7046211248738132,4.010984903770199,0.3727532183988541,3.534286719238086,0.5793452976256486,3.1877873567760657,3.803925243084487,2.4689779818219537,2.6136641469099704,0.5394571349665223],\"z\":[7.628560367470541,13.613497108891396,6.155743845534446,11.333267078145731,9.501056347656352,12.055081153486716,2.7985508832905377,13.388384977349666,3.4190274381291252,7.661209538663486,10.545284383427667,7.4587275883857815,0.5533042103179919,9.143465009698453,4.179696963549172],\"type\":\"scatter3d\"}],                        {\"template\":{\"data\":{\"histogram2dcontour\":[{\"type\":\"histogram2dcontour\",\"colorbar\":{\"outlinewidth\":0,\"ticks\":\"\"},\"colorscale\":[[0.0,\"#0d0887\"],[0.1111111111111111,\"#46039f\"],[0.2222222222222222,\"#7201a8\"],[0.3333333333333333,\"#9c179e\"],[0.4444444444444444,\"#bd3786\"],[0.5555555555555556,\"#d8576b\"],[0.6666666666666666,\"#ed7953\"],[0.7777777777777778,\"#fb9f3a\"],[0.8888888888888888,\"#fdca26\"],[1.0,\"#f0f921\"]]}],\"choropleth\":[{\"type\":\"choropleth\",\"colorbar\":{\"outlinewidth\":0,\"ticks\":\"\"}}],\"histogram2d\":[{\"type\":\"histogram2d\",\"colorbar\":{\"outlinewidth\":0,\"ticks\":\"\"},\"colorscale\":[[0.0,\"#0d0887\"],[0.1111111111111111,\"#46039f\"],[0.2222222222222222,\"#7201a8\"],[0.3333333333333333,\"#9c179e\"],[0.4444444444444444,\"#bd3786\"],[0.5555555555555556,\"#d8576b\"],[0.6666666666666666,\"#ed7953\"],[0.7777777777777778,\"#fb9f3a\"],[0.8888888888888888,\"#fdca26\"],[1.0,\"#f0f921\"]]}],\"heatmap\":[{\"type\":\"heatmap\",\"colorbar\":{\"outlinewidth\":0,\"ticks\":\"\"},\"colorscale\":[[0.0,\"#0d0887\"],[0.1111111111111111,\"#46039f\"],[0.2222222222222222,\"#7201a8\"],[0.3333333333333333,\"#9c179e\"],[0.4444444444444444,\"#bd3786\"],[0.5555555555555556,\"#d8576b\"],[0.6666666666666666,\"#ed7953\"],[0.7777777777777778,\"#fb9f3a\"],[0.8888888888888888,\"#fdca26\"],[1.0,\"#f0f921\"]]}],\"heatmapgl\":[{\"type\":\"heatmapgl\",\"colorbar\":{\"outlinewidth\":0,\"ticks\":\"\"},\"colorscale\":[[0.0,\"#0d0887\"],[0.1111111111111111,\"#46039f\"],[0.2222222222222222,\"#7201a8\"],[0.3333333333333333,\"#9c179e\"],[0.4444444444444444,\"#bd3786\"],[0.5555555555555556,\"#d8576b\"],[0.6666666666666666,\"#ed7953\"],[0.7777777777777778,\"#fb9f3a\"],[0.8888888888888888,\"#fdca26\"],[1.0,\"#f0f921\"]]}],\"contourcarpet\":[{\"type\":\"contourcarpet\",\"colorbar\":{\"outlinewidth\":0,\"ticks\":\"\"}}],\"contour\":[{\"type\":\"contour\",\"colorbar\":{\"outlinewidth\":0,\"ticks\":\"\"},\"colorscale\":[[0.0,\"#0d0887\"],[0.1111111111111111,\"#46039f\"],[0.2222222222222222,\"#7201a8\"],[0.3333333333333333,\"#9c179e\"],[0.4444444444444444,\"#bd3786\"],[0.5555555555555556,\"#d8576b\"],[0.6666666666666666,\"#ed7953\"],[0.7777777777777778,\"#fb9f3a\"],[0.8888888888888888,\"#fdca26\"],[1.0,\"#f0f921\"]]}],\"surface\":[{\"type\":\"surface\",\"colorbar\":{\"outlinewidth\":0,\"ticks\":\"\"},\"colorscale\":[[0.0,\"#0d0887\"],[0.1111111111111111,\"#46039f\"],[0.2222222222222222,\"#7201a8\"],[0.3333333333333333,\"#9c179e\"],[0.4444444444444444,\"#bd3786\"],[0.5555555555555556,\"#d8576b\"],[0.6666666666666666,\"#ed7953\"],[0.7777777777777778,\"#fb9f3a\"],[0.8888888888888888,\"#fdca26\"],[1.0,\"#f0f921\"]]}],\"mesh3d\":[{\"type\":\"mesh3d\",\"colorbar\":{\"outlinewidth\":0,\"ticks\":\"\"}}],\"scatter\":[{\"fillpattern\":{\"fillmode\":\"overlay\",\"size\":10,\"solidity\":0.2},\"type\":\"scatter\"}],\"parcoords\":[{\"type\":\"parcoords\",\"line\":{\"colorbar\":{\"outlinewidth\":0,\"ticks\":\"\"}}}],\"scatterpolargl\":[{\"type\":\"scatterpolargl\",\"marker\":{\"colorbar\":{\"outlinewidth\":0,\"ticks\":\"\"}}}],\"bar\":[{\"error_x\":{\"color\":\"#2a3f5f\"},\"error_y\":{\"color\":\"#2a3f5f\"},\"marker\":{\"line\":{\"color\":\"#E5ECF6\",\"width\":0.5},\"pattern\":{\"fillmode\":\"overlay\",\"size\":10,\"solidity\":0.2}},\"type\":\"bar\"}],\"scattergeo\":[{\"type\":\"scattergeo\",\"marker\":{\"colorbar\":{\"outlinewidth\":0,\"ticks\":\"\"}}}],\"scatterpolar\":[{\"type\":\"scatterpolar\",\"marker\":{\"colorbar\":{\"outlinewidth\":0,\"ticks\":\"\"}}}],\"histogram\":[{\"marker\":{\"pattern\":{\"fillmode\":\"overlay\",\"size\":10,\"solidity\":0.2}},\"type\":\"histogram\"}],\"scattergl\":[{\"type\":\"scattergl\",\"marker\":{\"colorbar\":{\"outlinewidth\":0,\"ticks\":\"\"}}}],\"scatter3d\":[{\"type\":\"scatter3d\",\"line\":{\"colorbar\":{\"outlinewidth\":0,\"ticks\":\"\"}},\"marker\":{\"colorbar\":{\"outlinewidth\":0,\"ticks\":\"\"}}}],\"scattermapbox\":[{\"type\":\"scattermapbox\",\"marker\":{\"colorbar\":{\"outlinewidth\":0,\"ticks\":\"\"}}}],\"scatterternary\":[{\"type\":\"scatterternary\",\"marker\":{\"colorbar\":{\"outlinewidth\":0,\"ticks\":\"\"}}}],\"scattercarpet\":[{\"type\":\"scattercarpet\",\"marker\":{\"colorbar\":{\"outlinewidth\":0,\"ticks\":\"\"}}}],\"carpet\":[{\"aaxis\":{\"endlinecolor\":\"#2a3f5f\",\"gridcolor\":\"white\",\"linecolor\":\"white\",\"minorgridcolor\":\"white\",\"startlinecolor\":\"#2a3f5f\"},\"baxis\":{\"endlinecolor\":\"#2a3f5f\",\"gridcolor\":\"white\",\"linecolor\":\"white\",\"minorgridcolor\":\"white\",\"startlinecolor\":\"#2a3f5f\"},\"type\":\"carpet\"}],\"table\":[{\"cells\":{\"fill\":{\"color\":\"#EBF0F8\"},\"line\":{\"color\":\"white\"}},\"header\":{\"fill\":{\"color\":\"#C8D4E3\"},\"line\":{\"color\":\"white\"}},\"type\":\"table\"}],\"barpolar\":[{\"marker\":{\"line\":{\"color\":\"#E5ECF6\",\"width\":0.5},\"pattern\":{\"fillmode\":\"overlay\",\"size\":10,\"solidity\":0.2}},\"type\":\"barpolar\"}],\"pie\":[{\"automargin\":true,\"type\":\"pie\"}]},\"layout\":{\"autotypenumbers\":\"strict\",\"colorway\":[\"#636efa\",\"#EF553B\",\"#00cc96\",\"#ab63fa\",\"#FFA15A\",\"#19d3f3\",\"#FF6692\",\"#B6E880\",\"#FF97FF\",\"#FECB52\"],\"font\":{\"color\":\"#2a3f5f\"},\"hovermode\":\"closest\",\"hoverlabel\":{\"align\":\"left\"},\"paper_bgcolor\":\"white\",\"plot_bgcolor\":\"#E5ECF6\",\"polar\":{\"bgcolor\":\"#E5ECF6\",\"angularaxis\":{\"gridcolor\":\"white\",\"linecolor\":\"white\",\"ticks\":\"\"},\"radialaxis\":{\"gridcolor\":\"white\",\"linecolor\":\"white\",\"ticks\":\"\"}},\"ternary\":{\"bgcolor\":\"#E5ECF6\",\"aaxis\":{\"gridcolor\":\"white\",\"linecolor\":\"white\",\"ticks\":\"\"},\"baxis\":{\"gridcolor\":\"white\",\"linecolor\":\"white\",\"ticks\":\"\"},\"caxis\":{\"gridcolor\":\"white\",\"linecolor\":\"white\",\"ticks\":\"\"}},\"coloraxis\":{\"colorbar\":{\"outlinewidth\":0,\"ticks\":\"\"}},\"colorscale\":{\"sequential\":[[0.0,\"#0d0887\"],[0.1111111111111111,\"#46039f\"],[0.2222222222222222,\"#7201a8\"],[0.3333333333333333,\"#9c179e\"],[0.4444444444444444,\"#bd3786\"],[0.5555555555555556,\"#d8576b\"],[0.6666666666666666,\"#ed7953\"],[0.7777777777777778,\"#fb9f3a\"],[0.8888888888888888,\"#fdca26\"],[1.0,\"#f0f921\"]],\"sequentialminus\":[[0.0,\"#0d0887\"],[0.1111111111111111,\"#46039f\"],[0.2222222222222222,\"#7201a8\"],[0.3333333333333333,\"#9c179e\"],[0.4444444444444444,\"#bd3786\"],[0.5555555555555556,\"#d8576b\"],[0.6666666666666666,\"#ed7953\"],[0.7777777777777778,\"#fb9f3a\"],[0.8888888888888888,\"#fdca26\"],[1.0,\"#f0f921\"]],\"diverging\":[[0,\"#8e0152\"],[0.1,\"#c51b7d\"],[0.2,\"#de77ae\"],[0.3,\"#f1b6da\"],[0.4,\"#fde0ef\"],[0.5,\"#f7f7f7\"],[0.6,\"#e6f5d0\"],[0.7,\"#b8e186\"],[0.8,\"#7fbc41\"],[0.9,\"#4d9221\"],[1,\"#276419\"]]},\"xaxis\":{\"gridcolor\":\"white\",\"linecolor\":\"white\",\"ticks\":\"\",\"title\":{\"standoff\":15},\"zerolinecolor\":\"white\",\"automargin\":true,\"zerolinewidth\":2},\"yaxis\":{\"gridcolor\":\"white\",\"linecolor\":\"white\",\"ticks\":\"\",\"title\":{\"standoff\":15},\"zerolinecolor\":\"white\",\"automargin\":true,\"zerolinewidth\":2},\"scene\":{\"xaxis\":{\"backgroundcolor\":\"#E5ECF6\",\"gridcolor\":\"white\",\"linecolor\":\"white\",\"showbackground\":true,\"ticks\":\"\",\"zerolinecolor\":\"white\",\"gridwidth\":2},\"yaxis\":{\"backgroundcolor\":\"#E5ECF6\",\"gridcolor\":\"white\",\"linecolor\":\"white\",\"showbackground\":true,\"ticks\":\"\",\"zerolinecolor\":\"white\",\"gridwidth\":2},\"zaxis\":{\"backgroundcolor\":\"#E5ECF6\",\"gridcolor\":\"white\",\"linecolor\":\"white\",\"showbackground\":true,\"ticks\":\"\",\"zerolinecolor\":\"white\",\"gridwidth\":2}},\"shapedefaults\":{\"line\":{\"color\":\"#2a3f5f\"}},\"annotationdefaults\":{\"arrowcolor\":\"#2a3f5f\",\"arrowhead\":0,\"arrowwidth\":1},\"geo\":{\"bgcolor\":\"white\",\"landcolor\":\"#E5ECF6\",\"subunitcolor\":\"white\",\"showland\":true,\"showlakes\":true,\"lakecolor\":\"white\"},\"title\":{\"x\":0.05},\"mapbox\":{\"style\":\"light\"}}},\"scene\":{\"domain\":{\"x\":[0.0,1.0],\"y\":[0.0,1.0]},\"xaxis\":{\"title\":{\"text\":\"Feature X\"}},\"yaxis\":{\"title\":{\"text\":\"Feature Y\"}},\"zaxis\":{\"title\":{\"text\":\"Feature Z\"}}},\"legend\":{\"title\":{\"text\":\"Data Group\"},\"tracegroupgap\":0},\"title\":{\"text\":\"3D Scatter Plot of Random Data\"}},                        {\"responsive\": true}                    ).then(function(){\n",
              "                            \n",
              "var gd = document.getElementById('c5902101-ccc0-45bf-91cb-698f432a8f8c');\n",
              "var x = new MutationObserver(function (mutations, observer) {{\n",
              "        var display = window.getComputedStyle(gd).display;\n",
              "        if (!display || display === 'none') {{\n",
              "            console.log([gd, 'removed!']);\n",
              "            Plotly.purge(gd);\n",
              "            observer.disconnect();\n",
              "        }}\n",
              "}});\n",
              "\n",
              "// Listen for the removal of the full notebook cells\n",
              "var notebookContainer = gd.closest('#notebook-container');\n",
              "if (notebookContainer) {{\n",
              "    x.observe(notebookContainer, {childList: true});\n",
              "}}\n",
              "\n",
              "// Listen for the clearing of the current output cell\n",
              "var outputEl = gd.closest('.output');\n",
              "if (outputEl) {{\n",
              "    x.observe(outputEl, {childList: true});\n",
              "}}\n",
              "\n",
              "                        })                };                            </script>        </div>\n",
              "</body>\n",
              "</html>"
            ]
          },
          "metadata": {}
        }
      ]
    }
  ]
}